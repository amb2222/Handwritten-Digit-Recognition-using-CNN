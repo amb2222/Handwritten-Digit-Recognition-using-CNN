{
 "cells": [
  {
   "cell_type": "code",
   "execution_count": 1,
   "metadata": {},
   "outputs": [],
   "source": [
    "import numpy as np\n",
    "import tensorflow as tf"
   ]
  },
  {
   "cell_type": "code",
   "execution_count": 8,
   "metadata": {},
   "outputs": [],
   "source": [
    "import keras\n",
    "from keras.datasets import mnist"
   ]
  },
  {
   "cell_type": "code",
   "execution_count": 9,
   "metadata": {},
   "outputs": [],
   "source": [
    "from keras.models import Sequential\n",
    "from keras.layers import Dense, Dropout, Flatten\n",
    "from keras.layers import Conv2D, MaxPooling2D"
   ]
  },
  {
   "cell_type": "code",
   "execution_count": 10,
   "metadata": {},
   "outputs": [
    {
     "name": "stdout",
     "output_type": "stream",
     "text": [
      "x_train shape: (60000, 28, 28, 1)\n",
      "training size 60000\n",
      "test size 10000\n"
     ]
    }
   ],
   "source": [
    "batch = 64\n",
    "num_cl = 10\n",
    "epochs = 7\n",
    "\n",
    "rows, cols = 28, 28\n",
    "\n",
    "(x_train, y_train), (x_test, y_test) = mnist.load_data()\n",
    "\n",
    "x_train = x_train.reshape(60000,28,28,1)\n",
    "x_test = x_test.reshape(10000,28,28,1)\n",
    "\n",
    "print('x_train shape:', x_train.shape)\n",
    "print( 'training size', x_train.shape[0])\n",
    "print('test size',x_test.shape[0])\n",
    "\n",
    "y_train = keras.utils.to_categorical(y_train, num_cl)\n",
    "y_test = keras.utils.to_categorical(y_test, num_cl)"
   ]
  },
  {
   "cell_type": "code",
   "execution_count": 11,
   "metadata": {},
   "outputs": [],
   "source": [
    "model = Sequential()\n",
    "model.add(Conv2D(32, kernel_size=(5, 5), activation='relu'))\n",
    "model.add(MaxPooling2D(pool_size=(2, 2), strides=2))\n",
    "model.add(Conv2D(50, (5, 5), activation='relu'))\n",
    "model.add(MaxPooling2D(pool_size=(2, 2),strides=2))\n",
    "model.add(Dropout(0.25))\n",
    "model.add(Flatten())\n",
    "model.add(Dense(128, activation='relu'))\n",
    "model.add(Dropout(0.4))\n",
    "model.add(Dense(num_cl, activation='softmax'))"
   ]
  },
  {
   "cell_type": "code",
   "execution_count": 13,
   "metadata": {},
   "outputs": [
    {
     "name": "stdout",
     "output_type": "stream",
     "text": [
      "Train on 60000 samples, validate on 10000 samples\n",
      "Epoch 1/7\n",
      "60000/60000 [==============================] - 156s 3ms/step - loss: 0.6507 - accuracy: 0.8730 - val_loss: 0.0700 - val_accuracy: 0.9772\n",
      "Epoch 2/7\n",
      "60000/60000 [==============================] - 161s 3ms/step - loss: 0.1250 - accuracy: 0.9643 - val_loss: 0.0478 - val_accuracy: 0.9849\n",
      "Epoch 3/7\n",
      "60000/60000 [==============================] - 161s 3ms/step - loss: 0.0902 - accuracy: 0.9745 - val_loss: 0.0403 - val_accuracy: 0.9873\n",
      "Epoch 4/7\n",
      "60000/60000 [==============================] - 171s 3ms/step - loss: 0.0756 - accuracy: 0.9787 - val_loss: 0.0419 - val_accuracy: 0.9884\n",
      "Epoch 5/7\n",
      "60000/60000 [==============================] - 162s 3ms/step - loss: 0.0667 - accuracy: 0.9820 - val_loss: 0.0342 - val_accuracy: 0.9892\n",
      "Epoch 6/7\n",
      "60000/60000 [==============================] - 160s 3ms/step - loss: 0.0571 - accuracy: 0.9839 - val_loss: 0.0343 - val_accuracy: 0.9903\n",
      "Epoch 7/7\n",
      "60000/60000 [==============================] - 165s 3ms/step - loss: 0.0518 - accuracy: 0.9861 - val_loss: 0.0317 - val_accuracy: 0.9902\n",
      "10000/10000 [==============================] - 11s 1ms/step\n",
      "Loss on test set: 0.03172730788948847\n",
      "Test set accuracy: 0.9901999831199646\n"
     ]
    }
   ],
   "source": [
    "model.compile(loss=keras.losses.categorical_crossentropy,optimizer=keras.optimizers.Adadelta(),metrics=['accuracy'])\n",
    "\n",
    "model.fit(x_train, y_train,batch_size=batch,epochs=epochs,verbose=1,validation_data=(x_test, y_test))\n",
    "sc = model.evaluate(x_test, y_test, verbose=1)\n",
    "print('Loss on test set:', sc[0])\n",
    "print('Test set accuracy:', sc[1])"
   ]
  },
  {
   "cell_type": "code",
   "execution_count": null,
   "metadata": {},
   "outputs": [],
   "source": []
  }
 ],
 "metadata": {
  "kernelspec": {
   "display_name": "Python 3",
   "language": "python",
   "name": "python3"
  },
  "language_info": {
   "codemirror_mode": {
    "name": "ipython",
    "version": 3
   },
   "file_extension": ".py",
   "mimetype": "text/x-python",
   "name": "python",
   "nbconvert_exporter": "python",
   "pygments_lexer": "ipython3",
   "version": "3.7.4"
  }
 },
 "nbformat": 4,
 "nbformat_minor": 4
}
